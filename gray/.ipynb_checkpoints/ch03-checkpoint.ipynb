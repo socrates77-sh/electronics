{
 "cells": [
  {
   "cell_type": "code",
   "execution_count": 19,
   "metadata": {
    "collapsed": false
   },
   "outputs": [
    {
     "name": "stdout",
     "output_type": "stream",
     "text": [
      "ID=0.746970 (mA)\n",
      "IC=0.253030 (mA)\n"
     ]
    }
   ],
   "source": [
    "from numpy import log, sqrt\n",
    "from resp import *\n",
    "from sympy import symbols, simplify, evalf, solve, diff\n",
    "from sympy import init_printing\n",
    "\n",
    "init_printing()\n",
    "\n",
    "VT = 26e-3\n",
    "RL = 1e3\n",
    "RB = 1e3\n",
    "Vo = 2\n",
    "VCC = 3\n",
    "beta = 100\n",
    "IS = 1e-16\n",
    "gamma = 0.25\n",
    "phi = 0.3\n",
    "\n",
    "W = 10e-6\n",
    "L = 1e-6\n",
    "kn = 200e-6\n",
    "Vt0 = 0.6\n",
    "\n",
    "ID_est = 0.7 / RB\n",
    "IC_est = (VCC - Vo) / RL - ID_est\n",
    "VBE = VT * log(IC_est / IS)\n",
    "\n",
    "ID = VBE / RB\n",
    "IC = (VCC - Vo) / RL - ID\n",
    "\n",
    "print('ID=%f (mA)' % (ID * 1e3))\n",
    "print('IC=%f (mA)' % (IC * 1e3))\n",
    "\n",
    "gm1 = symbols('gm1')\n",
    "gmb1 = symbols('gmb1')\n",
    "gm2 = symbols('gm2')\n",
    "v1 = symbols('v1')\n",
    "v2 = symbols('v2')\n",
    "vo = symbols('vo')\n",
    "vi = symbols('vi')\n",
    "R = symbols('R')\n",
    "RL = symbols('RL')\n",
    "\n",
    "f1 = (gmb1 * v2 - gm1 * v1 - gm2 * v2) * RL - vo\n",
    "f2 = v1 + v2 - vi\n",
    "f3 = (gm1 * v1 - gmb1 * v2) * R - v2\n",
    "sol=solve((f1, f2, f3), v1, v2, vo)\n",
    "Av=sol[vo]/vi\n",
    "\n"
   ]
  },
  {
   "cell_type": "code",
   "execution_count": 25,
   "metadata": {
    "collapsed": true
   },
   "outputs": [],
   "source": [
    "RL_v = 1e3\n",
    "gm1_v = sqrt(2 * ID * kn * W / L)\n",
    "gmb1_v = gm1_v * gamma / (2 * sqrt(2 * phi + VBE))\n",
    "gm2_v = IC / VT\n",
    "rpi2 = beta / gm2_v\n",
    "R_v = resp(rpi2, RB)"
   ]
  },
  {
   "cell_type": "code",
   "execution_count": 26,
   "metadata": {
    "collapsed": false
   },
   "outputs": [
    {
     "data": {
      "image/png": "[encoded data removed]",
      "text/latex": [
       "$$-6.21467475839294$$"
      ],
      "text/plain": [
       "-6.21467475839294"
      ]
     },
     "execution_count": 26,
     "metadata": {},
     "output_type": "execute_result"
    }
   ],
   "source": [
    "Av.evalf(subs={RL:RL_v, gm1:gm1_v, gmb1:gmb1_v, gm2:gm2_v, R:R_v})"
   ]
  },
  {
   "cell_type": "code",
   "execution_count": null,
   "metadata": {
    "collapsed": true
   },
   "outputs": [],
   "source": []
  }
 ],
 "metadata": {
  "kernelspec": {
   "display_name": "Python 3",
   "language": "python",
   "name": "python3"
  },
  "language_info": {
   "codemirror_mode": {
    "name": "ipython",
    "version": 3
   },
   "file_extension": ".py",
   "mimetype": "text/x-python",
   "name": "python",
   "nbconvert_exporter": "python",
   "pygments_lexer": "ipython3",
   "version": "3.4.2"
  }
 },
 "nbformat": 4,
 "nbformat_minor": 1
}
