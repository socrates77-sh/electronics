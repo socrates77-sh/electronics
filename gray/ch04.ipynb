{
 "cells": [
  {
   "cell_type": "code",
   "execution_count": 146,
   "metadata": {},
   "outputs": [],
   "source": [
    "from numpy import log, sqrt\n",
    "from resp import *\n",
    "from sympy import symbols, simplify, evalf, solve, diff\n",
    "from sympy import init_printing\n",
    "\n",
    "init_printing()"
   ]
  },
  {
   "cell_type": "code",
   "execution_count": 147,
   "metadata": {},
   "outputs": [],
   "source": [
    "beta = symbols('beta_F')\n",
    "IC1 = symbols('IC1')\n",
    "IC2 = symbols('IC2')\n",
    "IS1 = symbols('IS1')\n",
    "IS2 = symbols('IS2')\n",
    "IIN = symbols('I_IN')"
   ]
  },
  {
   "cell_type": "code",
   "execution_count": 148,
   "metadata": {},
   "outputs": [],
   "source": [
    "f1 = IS1/IS2*IC1 - IC2\n",
    "f2 = IIN - IC1 - IC1/beta - IC2/beta"
   ]
  },
  {
   "cell_type": "code",
   "execution_count": 149,
   "metadata": {},
   "outputs": [],
   "source": [
    "sol = solve((f1, f2), IC2, IC1)"
   ]
  },
  {
   "cell_type": "code",
   "execution_count": 150,
   "metadata": {},
   "outputs": [
    {
     "data": {
      "image/png": "[encoded data removed]",
      "text/latex": "$$\\frac{IS_{1} I_{IN} \\beta}{IS_{1} + IS_{2} \\left(\\beta + 1\\right)}$$",
      "text/plain": "    IS₁⋅I_IN⋅β   \n─────────────────\nIS₁ + IS₂⋅(β + 1)"
     },
     "execution_count": 150,
     "metadata": {},
     "output_type": "execute_result"
    }
   ],
   "source": [
    "sol[IC2]"
   ]
  },
  {
   "cell_type": "code",
   "execution_count": 151,
   "metadata": {},
   "outputs": [],
   "source": [
    "f3 = (IS1/IS2*IIN)*(1/(1+(1+IS1/IS2)/beta))"
   ]
  },
  {
   "cell_type": "code",
   "execution_count": 152,
   "metadata": {},
   "outputs": [
    {
     "data": {
      "image/png": "[encoded data removed]",
      "text/latex": "$$\\frac{IS_{1} I_{IN}}{IS_{2} \\left(1 + \\frac{\\frac{IS_{1}}{IS_{2}} + 1}{\\beta}\\right)}$$",
      "text/plain": "     IS₁⋅I_IN    \n─────────────────\n    ⎛    IS₁    ⎞\n    ⎜    ─── + 1⎟\n    ⎜    IS₂    ⎟\nIS₂⋅⎜1 + ───────⎟\n    ⎝       β   ⎠"
     },
     "execution_count": 152,
     "metadata": {},
     "output_type": "execute_result"
    }
   ],
   "source": [
    "f3"
   ]
  },
  {
   "cell_type": "code",
   "execution_count": 153,
   "metadata": {},
   "outputs": [
    {
     "data": {
      "image/png": "[encoded data removed]",
      "text/latex": "$$\\frac{IS_{1} I_{IN} \\beta}{IS_{1} + IS_{2} \\beta + IS_{2}}$$",
      "text/plain": "    IS₁⋅I_IN⋅β   \n─────────────────\nIS₁ + IS₂⋅β + IS₂"
     },
     "execution_count": 153,
     "metadata": {},
     "output_type": "execute_result"
    }
   ],
   "source": [
    "simplify(f3)"
   ]
  },
  {
   "cell_type": "code",
   "execution_count": null,
   "metadata": {},
   "outputs": [],
   "source": []
  }
 ],
 "metadata": {
  "kernelspec": {
   "display_name": "Python 3",
   "language": "python",
   "name": "python3"
  },
  "language_info": {
   "codemirror_mode": {
    "name": "ipython",
    "version": 3
   },
   "file_extension": ".py",
   "mimetype": "text/x-python",
   "name": "python",
   "nbconvert_exporter": "python",
   "pygments_lexer": "ipython3",
   "version": "3.7.2"
  }
 },
 "nbformat": 4,
 "nbformat_minor": 1
}