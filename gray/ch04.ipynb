{
 "cells": [
  {
   "source": [
    "# from numpy import log, sqrt\n",
    "from resp import *\n",
    "from sympy import symbols, simplify, evalf, solve, diff,log\n",
    "from sympy import init_printing\n",
    "\n",
    "init_printing()"
   ],
   "cell_type": "code",
   "outputs": [],
   "metadata": {},
   "execution_count": 41
  },
  {
   "source": [
    "beta = symbols('beta_F')\n",
    "IC1 = symbols('IC1')\n",
    "IC2 = symbols('IC2')\n",
    "IS1 = symbols('IS1')\n",
    "IS2 = symbols('IS2')\n",
    "IIN = symbols('I_IN')"
   ],
   "cell_type": "code",
   "outputs": [],
   "metadata": {},
   "execution_count": 42
  },
  {
   "source": [
    "f1 = IS1/IS2*IC1 - IC2\n",
    "f2 = IIN - IC1 - IC1/beta - IC2/beta"
   ],
   "cell_type": "code",
   "outputs": [],
   "metadata": {},
   "execution_count": 43
  },
  {
   "source": [
    "sol = solve((f1, f2), IC2, IC1)"
   ],
   "cell_type": "code",
   "outputs": [],
   "metadata": {},
   "execution_count": 44
  },
  {
   "source": [
    "sol[IC2]"
   ],
   "cell_type": "code",
   "outputs": [
    {
     "output_type": "execute_result",
     "data": {
      "text/plain": "    IS₁⋅I_IN⋅β_F   \n───────────────────\nIS₁ + IS₂⋅(β_F + 1)",
      "image/png": "[encoded data removed]",
      "text/latex": "$$\\frac{IS_{1} I_{IN} \\beta_{F}}{IS_{1} + IS_{2} \\left(\\beta_{F} + 1\\right)}$$"
     },
     "metadata": {},
     "execution_count": 45
    }
   ],
   "metadata": {},
   "execution_count": 45
  },
  {
   "source": [
    "f3 = (IS1/IS2*IIN)*(1/(1+(1+IS1/IS2)/beta))"
   ],
   "cell_type": "code",
   "outputs": [],
   "metadata": {},
   "execution_count": 46
  },
  {
   "source": [
    "f3"
   ],
   "cell_type": "code",
   "outputs": [
    {
     "output_type": "execute_result",
     "data": {
      "text/plain": "     IS₁⋅I_IN    \n─────────────────\n    ⎛    IS₁    ⎞\n    ⎜    ─── + 1⎟\n    ⎜    IS₂    ⎟\nIS₂⋅⎜1 + ───────⎟\n    ⎝      β_F  ⎠",
      "image/png": "[encoded data removed]",
      "text/latex": "$$\\frac{IS_{1} I_{IN}}{IS_{2} \\left(1 + \\frac{\\frac{IS_{1}}{IS_{2}} + 1}{\\beta_{F}}\\right)}$$"
     },
     "metadata": {},
     "execution_count": 47
    }
   ],
   "metadata": {},
   "execution_count": 47
  },
  {
   "source": [
    "simplify(f3)"
   ],
   "cell_type": "code",
   "outputs": [
    {
     "output_type": "execute_result",
     "data": {
      "text/plain": "    IS₁⋅I_IN⋅β_F   \n───────────────────\nIS₁ + IS₂⋅β_F + IS₂",
      "image/png": "[encoded data removed]",
      "text/latex": "$$\\frac{IS_{1} I_{IN} \\beta_{F}}{IS_{1} + IS_{2} \\beta_{F} + IS_{2}}$$"
     },
     "metadata": {},
     "execution_count": 48
    }
   ],
   "metadata": {},
   "execution_count": 48
  },
  {
   "cell_type": "code",
   "execution_count": 50,
   "metadata": {},
   "outputs": [
    {
     "output_type": "execute_result",
     "data": {
      "text/plain": "1\n─\nx",
      "image/png": "[encoded data removed]",
      "text/latex": "$$\\frac{1}{x}$$"
     },
     "metadata": {},
     "execution_count": 50
    }
   ],
   "source": [
    "x = symbols('x')\n",
    "diff(log(x))"
   ]
  },
  {
   "cell_type": "code",
   "execution_count": null,
   "metadata": {},
   "outputs": [],
   "source": []
  }
 ],
 "metadata": {
  "kernelspec": {
   "display_name": "Python 3",
   "language": "python",
   "name": "python3"
  },
  "language_info": {
   "codemirror_mode": {
    "name": "ipython",
    "version": 3
   },
   "file_extension": ".py",
   "mimetype": "text/x-python",
   "name": "python",
   "nbconvert_exporter": "python",
   "pygments_lexer": "ipython3",
   "version": "3.7.2-final"
  }
 },
 "nbformat": 4,
 "nbformat_minor": 1
}