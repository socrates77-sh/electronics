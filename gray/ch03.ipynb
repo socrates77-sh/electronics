{
 "cells": [
  {
   "cell_type": "code",
   "execution_count": 80,
   "metadata": {
    "collapsed": false
   },
   "outputs": [
    {
     "name": "stdout",
     "output_type": "stream",
     "text": [
      "Part 1\n",
      "Vo=1.632219 (V)\n",
      "Av=1.000000\n",
      "Part 2\n",
      "Vo=1.495521 (V)\n",
      "Av=0.938415\n"
     ]
    }
   ],
   "source": [
    "from sympy import symbols, simplify, evalf, solve, diff\n",
    "from sympy import init_printing\n",
    "from numpy import log, sqrt\n",
    "\n",
    "init_printing()\n",
    "\n",
    "un = 650e-4\n",
    "Cox = 1.38e-3\n",
    "Vt = 0.7\n",
    "ID = 200e-6\n",
    "\n",
    "print('Part 1')\n",
    "Vov = symbols('Vov', positive=True)\n",
    "sol = solve(un * Cox / 2 * 10 * Vov**2 - ID)\n",
    "VGS = sol[0] + Vt\n",
    "Vo1 = 3 - VGS\n",
    "\n",
    "print('Vo=%f (V)' % Vo1)\n",
    "print('Av=%f' % 1)\n",
    "\n",
    "print('Part 2')\n",
    "gamma = 0.19\n",
    "phi = 0.3\n",
    "VSB = Vo1\n",
    "Vt2 = Vt + gamma * ((2 * phi + VSB)**0.5 - (2 * phi)**0.5)\n",
    "Vo2 = 3 - sol[0] - Vt2\n",
    "chi = gamma / (2 * (2 * phi + Vo2)**0.5)\n",
    "Av = 1 / (1 + chi)\n",
    "\n",
    "print('Vo=%f (V)' % Vo2)\n",
    "print('Av=%f' % Av)\n"
   ]
  },
  {
   "cell_type": "code",
   "execution_count": 81,
   "metadata": {
    "collapsed": false
   },
   "outputs": [
    {
     "data": {
      "image/png": "[encoded data removed]",
      "text/latex": [
       "$$0.836698296919771$$"
      ],
      "text/plain": [
       "0.836698296919771"
      ]
     },
     "execution_count": 81,
     "metadata": {},
     "output_type": "execute_result"
    }
   ],
   "source": [
    "Vt2"
   ]
  },
  {
   "cell_type": "code",
   "execution_count": 82,
   "metadata": {
    "collapsed": false
   },
   "outputs": [
    {
     "data": {
      "image/png": "[encoded data removed]",
      "text/latex": [
       "$$0.0656262490152058$$"
      ],
      "text/plain": [
       "0.0656262490152058"
      ]
     },
     "execution_count": 82,
     "metadata": {},
     "output_type": "execute_result"
    }
   ],
   "source": [
    "chi"
   ]
  },
  {
   "cell_type": "code",
   "execution_count": 83,
   "metadata": {
    "collapsed": false
   },
   "outputs": [
    {
     "data": {
      "image/png": "[encoded data removed]",
      "text/latex": [
       "$$0.0655562281375$$"
      ],
      "text/plain": [
       "0.0655562281375"
      ]
     },
     "execution_count": 83,
     "metadata": {},
     "output_type": "execute_result"
    }
   ],
   "source": [
    "0.19/(2*sqrt(0.6+1.5))"
   ]
  },
  {
   "cell_type": "code",
   "execution_count": 79,
   "metadata": {
    "collapsed": false
   },
   "outputs": [
    {
     "data": {
      "image/png": "[encoded data removed]",
      "text/latex": [
       "$$0.06555622813752365$$"
      ],
      "text/plain": [
       "0.06555622813752365"
      ]
     },
     "execution_count": 79,
     "metadata": {},
     "output_type": "execute_result"
    }
   ],
   "source": [
    "gamma / (2 * (2 * 0.3 + 1.5)**0.5)"
   ]
  },
  {
   "cell_type": "code",
   "execution_count": null,
   "metadata": {
    "collapsed": true
   },
   "outputs": [],
   "source": []
  }
 ],
 "metadata": {
  "kernelspec": {
   "display_name": "Python 3",
   "language": "python",
   "name": "python3"
  },
  "language_info": {
   "codemirror_mode": {
    "name": "ipython",
    "version": 3
   },
   "file_extension": ".py",
   "mimetype": "text/x-python",
   "name": "python",
   "nbconvert_exporter": "python",
   "pygments_lexer": "ipython3",
   "version": "3.4.2"
  }
 },
 "nbformat": 4,
 "nbformat_minor": 1
}
