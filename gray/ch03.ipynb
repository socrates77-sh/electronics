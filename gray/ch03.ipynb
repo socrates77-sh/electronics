{
 "cells": [
  {
   "cell_type": "code",
   "execution_count": 42,
   "metadata": {
    "collapsed": false
   },
   "outputs": [
    {
     "name": "stdout",
     "output_type": "stream",
     "text": [
      "Ri=1901.467297 (Kohm)\n"
     ]
    }
   ],
   "source": [
    "from numpy import log, sqrt\n",
    "from resp import *\n",
    "\n",
    "VT = 26e-3\n",
    "VBE = 0.7\n",
    "R1 = 1e3\n",
    "R2 = 50\n",
    "VIN = 5\n",
    "VCC = 10\n",
    "beta = 200\n",
    "\n",
    "Vo = VIN - VBE - VBE\n",
    "Io = Vo / R2\n",
    "Ix = VBE / R1\n",
    "IE2 = Io - Ix\n",
    "IB2 = IE2 / (1 + beta)\n",
    "IE1 = IB2 + Ix\n",
    "IC2 = IE2 * beta / (beta + 1)\n",
    "IC1 = IE1 * beta / (beta + 1)\n",
    "\n",
    "rpi2 = beta * VT / IC2\n",
    "rpi2p = resp(rpi2, R1)\n",
    "gm2 = IC2 / VT\n",
    "Ri2 = rpi2p + (1 + gm2 * rpi2p) * R2\n",
    "\n",
    "gm1 = IC1 / VT\n",
    "rpi1 = beta / gm1\n",
    "Ri = rpi1 + (1 + gm1 * rpi1) * Ri2\n",
    "print('Ri=%f (Kohm)' % (Ri * 1e-3))\n",
    "\n",
    "Av1 = 1 / (1 + rpi1 / ((1 + beta) * Ri2))\n",
    "Av2 = 1 / (1 + rpi2p / ((1 + gm2 * rpi2p) * R2))"
   ]
  },
  {
   "cell_type": "code",
   "execution_count": 43,
   "metadata": {
    "collapsed": false
   },
   "outputs": [
    {
     "data": {
      "text/plain": [
       "0.9927622971355399"
      ]
     },
     "execution_count": 43,
     "metadata": {},
     "output_type": "execute_result"
    }
   ],
   "source": [
    "Av2\n"
   ]
  },
  {
   "cell_type": "code",
   "execution_count": 35,
   "metadata": {
    "collapsed": false
   },
   "outputs": [
    {
     "data": {
      "text/plain": [
       "73.29593267882188"
      ]
     },
     "execution_count": 35,
     "metadata": {},
     "output_type": "execute_result"
    }
   ],
   "source": [
    "rpi2"
   ]
  },
  {
   "cell_type": "code",
   "execution_count": null,
   "metadata": {
    "collapsed": true
   },
   "outputs": [],
   "source": []
  }
 ],
 "metadata": {
  "kernelspec": {
   "display_name": "Python 3",
   "language": "python",
   "name": "python3"
  },
  "language_info": {
   "codemirror_mode": {
    "name": "ipython",
    "version": 3
   },
   "file_extension": ".py",
   "mimetype": "text/x-python",
   "name": "python",
   "nbconvert_exporter": "python",
   "pygments_lexer": "ipython3",
   "version": "3.4.2"
  }
 },
 "nbformat": 4,
 "nbformat_minor": 1
}
