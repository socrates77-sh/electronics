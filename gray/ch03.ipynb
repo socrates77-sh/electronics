{
 "cells": [
  {
   "cell_type": "code",
   "execution_count": 42,
   "metadata": {
    "collapsed": false
   },
   "outputs": [
    {
     "name": "stdout",
     "output_type": "stream",
     "text": [
      "Vi=1.281025 (V)\n",
      "Vo=0.681025 (V)\n"
     ]
    }
   ],
   "source": [
    "from sympy import symbols, evalf, solve, diff\n",
    "from sympy import init_printing\n",
    "\n",
    "init_printing()\n",
    "\n",
    "VDD = 3\n",
    "RD = 5e3\n",
    "kn = 200e-6\n",
    "W = 10e-6\n",
    "L = 1e-6\n",
    "Vt = 0.6\n",
    "\n",
    "vi, vo = symbols('vi vo', positive=True)\n",
    "ID = kn / 2 * W / L * (vi - Vt)**2\n",
    "eq1 = VDD - ID * RD - vo\n",
    "eq2 = vo + Vt - vi\n",
    "sol = solve((eq1, eq2), vi, vo, dict=True)\n",
    "vi1 = sol[0][vi]\n",
    "vo1 = sol[0][vo]\n",
    "\n",
    "print('Vi=%f (V)' % vi1)\n",
    "print('Vo=%f (V)' % vo1)\n"
   ]
  },
  {
   "cell_type": "code",
   "execution_count": null,
   "metadata": {
    "collapsed": true
   },
   "outputs": [],
   "source": []
  }
 ],
 "metadata": {
  "kernelspec": {
   "display_name": "Python 3",
   "language": "python",
   "name": "python3"
  },
  "language_info": {
   "codemirror_mode": {
    "name": "ipython",
    "version": 3
   },
   "file_extension": ".py",
   "mimetype": "text/x-python",
   "name": "python",
   "nbconvert_exporter": "python",
   "pygments_lexer": "ipython3",
   "version": "3.4.2"
  }
 },
 "nbformat": 4,
 "nbformat_minor": 1
}
