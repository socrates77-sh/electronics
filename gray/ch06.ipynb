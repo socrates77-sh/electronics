{
 "cells": [
  {
   "source": [
    "# from numpy import log, sqrt\n",
    "from resp import *\n",
    "from sympy import symbols, simplify, evalf, solve, diff,log\n",
    "from sympy import init_printing\n",
    "\n",
    "init_printing()"
   ],
   "cell_type": "code",
   "outputs": [],
   "metadata": {},
   "execution_count": 41
  },
  {
   "source": [
    "beta = symbols('beta_F')\n",
    "IC1 = symbols('IC1')\n",
    "IC2 = symbols('IC2')\n",
    "IS1 = symbols('IS1')\n",
    "IS2 = symbols('IS2')\n",
    "IIN = symbols('I_IN')"
   ],
   "cell_type": "code",
   "outputs": [],
   "metadata": {},
   "execution_count": 42
  },
  {
   "cell_type": "code",
   "execution_count": null,
   "metadata": {},
   "outputs": [],
   "source": []
  }
 ],
 "metadata": {
  "kernelspec": {
   "display_name": "Python 3",
   "language": "python",
   "name": "python3"
  },
  "language_info": {
   "codemirror_mode": {
    "name": "ipython",
    "version": 3
   },
   "file_extension": ".py",
   "mimetype": "text/x-python",
   "name": "python",
   "nbconvert_exporter": "python",
   "pygments_lexer": "ipython3",
   "version": "3.7.2-final"
  }
 },
 "nbformat": 4,
 "nbformat_minor": 1
}