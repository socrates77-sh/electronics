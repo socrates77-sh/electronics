{
 "cells": [
  {
   "cell_type": "code",
   "execution_count": 32,
   "metadata": {
    "collapsed": false
   },
   "outputs": [
    {
     "data": {
      "image/png": "[encoded data removed]",
      "text/latex": [
       "$$-137.017596449173$$"
      ],
      "text/plain": [
       "-137.017596449173"
      ]
     },
     "execution_count": 32,
     "metadata": {},
     "output_type": "execute_result"
    }
   ],
   "source": [
    "from sympy import symbols, evalf, solve, diff, evalf\n",
    "from sympy import init_printing\n",
    "\n",
    "init_printing()\n",
    "VT = 26e-3\n",
    "beta = 200\n",
    "VA = 120\n",
    "\n",
    "Rs = 50e3\n",
    "Rc = 50e3\n",
    "\n",
    "Ic, Av = symbols('Ic Av')\n",
    "Av = -beta * ((VA / Ic) * Rc / (VA / Ic + Rc)) / (beta * VT / Ic + Rs)\n",
    "Ic_opt = solve(diff(Av, Ic))[1]\n",
    "Av_opt = Av.evalf(subs={Ic:Ic_opt})\n",
    "Av_opt"
   ]
  },
  {
   "cell_type": "code",
   "execution_count": null,
   "metadata": {
    "collapsed": true
   },
   "outputs": [],
   "source": []
  }
 ],
 "metadata": {
  "kernelspec": {
   "display_name": "Python 3",
   "language": "python",
   "name": "python3"
  },
  "language_info": {
   "codemirror_mode": {
    "name": "ipython",
    "version": 3
   },
   "file_extension": ".py",
   "mimetype": "text/x-python",
   "name": "python",
   "nbconvert_exporter": "python",
   "pygments_lexer": "ipython3",
   "version": "3.4.2"
  }
 },
 "nbformat": 4,
 "nbformat_minor": 1
}
